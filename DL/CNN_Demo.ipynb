{
  "cells": [
    {
      "cell_type": "code",
      "execution_count": null,
      "metadata": {
        "id": "NrRGu0DFez1Q"
      },
      "outputs": [],
      "source": [
        "import tensorflow as tf\n",
        "from tensorflow import keras\n",
        "\n",
        "from tensorflow.keras import layers\n",
        "from tensorflow.keras.preprocessing.image import ImageDataGenerator"
      ]
    },
    {
      "cell_type": "code",
      "execution_count": null,
      "metadata": {
        "id": "hYbVliLUfMF6"
      },
      "outputs": [],
      "source": [
        "train_data_dir = '/content/drive/MyDrive/Dataset General/AI in Medical/Chest Cancer/train'\n",
        "test_data_dir = '/content/drive/MyDrive/Dataset General/AI in Medical/Chest Cancer/test'\n",
        "\n",
        "img_height, img_width = 224, 224\n",
        "batch_size = 32\n"
      ]
    },
    {
      "cell_type": "code",
      "execution_count": null,
      "metadata": {
        "colab": {
          "base_uri": "https://localhost:8080/"
        },
        "id": "cjveyF_Yf6FO",
        "outputId": "d673a372-48f9-4721-af91-7f989cedfa25"
      },
      "outputs": [
        {
          "name": "stdout",
          "output_type": "stream",
          "text": [
            "Found 701 images belonging to 4 classes.\n",
            "Found 282 images belonging to 4 classes.\n"
          ]
        }
      ],
      "source": [
        "train_datagen = ImageDataGenerator(\n",
        "    rescale=1.0 / 255,\n",
        "    rotation_range=15,\n",
        "    width_shift_range=0.1,\n",
        "    height_shift_range=0.1,\n",
        "    shear_range=0.2,\n",
        "    zoom_range=0.2,\n",
        "    horizontal_flip=True,\n",
        "    fill_mode='nearest'\n",
        ")\n",
        "\n",
        "train_generator = train_datagen.flow_from_directory(\n",
        "    train_data_dir,\n",
        "    target_size=(img_height, img_width),\n",
        "    batch_size=batch_size,\n",
        "    class_mode='categorical',  # Use 'categorical' for multi-class classification\n",
        "    shuffle=True\n",
        ")\n",
        "\n",
        "test_datagen = ImageDataGenerator(rescale=1.0 / 255)\n",
        "\n",
        "test_generator = test_datagen.flow_from_directory(\n",
        "    test_data_dir,\n",
        "    target_size=(img_height, img_width),\n",
        "    batch_size=batch_size,\n",
        "    class_mode='categorical',  # Use 'categorical' for multi-class classification\n",
        "    shuffle=False\n",
        ")\n"
      ]
    },
    {
      "cell_type": "code",
      "execution_count": null,
      "metadata": {
        "colab": {
          "base_uri": "https://localhost:8080/"
        },
        "id": "6yPSVZfcgBbV",
        "outputId": "9f113dd9-0410-4dc5-8157-2dc2b549f5e2"
      },
      "outputs": [
        {
          "name": "stdout",
          "output_type": "stream",
          "text": [
            "Model: \"sequential\"\n",
            "_________________________________________________________________\n",
            " Layer (type)                Output Shape              Param #   \n",
            "=================================================================\n",
            " conv2d (Conv2D)             (None, 222, 222, 32)      896       \n",
            "                                                                 \n",
            " max_pooling2d (MaxPooling2  (None, 111, 111, 32)      0         \n",
            " D)                                                              \n",
            "                                                                 \n",
            " conv2d_1 (Conv2D)           (None, 109, 109, 64)      18496     \n",
            "                                                                 \n",
            " max_pooling2d_1 (MaxPoolin  (None, 54, 54, 64)        0         \n",
            " g2D)                                                            \n",
            "                                                                 \n",
            " conv2d_2 (Conv2D)           (None, 52, 52, 128)       73856     \n",
            "                                                                 \n",
            " max_pooling2d_2 (MaxPoolin  (None, 26, 26, 128)       0         \n",
            " g2D)                                                            \n",
            "                                                                 \n",
            " flatten (Flatten)           (None, 86528)             0         \n",
            "                                                                 \n",
            " dense (Dense)               (None, 512)               44302848  \n",
            "                                                                 \n",
            " dense_1 (Dense)             (None, 256)               131328    \n",
            "                                                                 \n",
            " dense_2 (Dense)             (None, 128)               32896     \n",
            "                                                                 \n",
            " dense_3 (Dense)             (None, 64)                8256      \n",
            "                                                                 \n",
            " dense_4 (Dense)             (None, 4)                 260       \n",
            "                                                                 \n",
            "=================================================================\n",
            "Total params: 44568836 (170.02 MB)\n",
            "Trainable params: 44568836 (170.02 MB)\n",
            "Non-trainable params: 0 (0.00 Byte)\n",
            "_________________________________________________________________\n"
          ]
        }
      ],
      "source": [
        "model = keras.Sequential([\n",
        "    layers.Conv2D(32, (3, 3), activation='relu', input_shape=(img_height, img_width, 3)),\n",
        "    layers.MaxPooling2D(2, 2),\n",
        "\n",
        "    layers.Conv2D(64, (3, 3), activation='relu'),\n",
        "    layers.MaxPooling2D(2, 2),\n",
        "\n",
        "    layers.Conv2D(128, (3, 3), activation='relu'),\n",
        "    layers.MaxPooling2D(2, 2),\n",
        "\n",
        "    layers.Flatten(),\n",
        "    layers.Dense(512, activation='relu'),\n",
        "    layers.Dense(256, activation='relu'),\n",
        "    layers.Dense(128, activation='relu'),\n",
        "    layers.Dense(64, activation='relu'),\n",
        "    layers.Dense(4, activation='softmax')  # Use 'softmax' for multi-class classification\n",
        "])\n",
        "\n",
        "\n",
        "# Print model summary\n",
        "model.summary()\n"
      ]
    },
    {
      "cell_type": "code",
      "execution_count": null,
      "metadata": {
        "id": "EppqWK_ZgJRN"
      },
      "outputs": [],
      "source": [
        "\n",
        "model.compile(\n",
        "    loss='categorical_crossentropy',  # Use categorical cross-entropy for multi-class\n",
        "    optimizer='adam',\n",
        "    metrics=['accuracy']\n",
        ")\n"
      ]
    },
    {
      "cell_type": "code",
      "execution_count": null,
      "metadata": {
        "colab": {
          "background_save": true,
          "base_uri": "https://localhost:8080/"
        },
        "id": "Ja7r63O4gPKJ",
        "outputId": "95363703-29a1-44a5-fbc5-2aa5847367d1"
      },
      "outputs": [
        {
          "name": "stdout",
          "output_type": "stream",
          "text": [
            "Epoch 1/10\n",
            "22/22 [==============================] - 66s 3s/step - loss: 0.7080 - accuracy: 0.6805 - val_loss: 1.2840 - val_accuracy: 0.5461\n",
            "Epoch 2/10\n",
            "22/22 [==============================] - 62s 3s/step - loss: 0.6848 - accuracy: 0.6833 - val_loss: 1.3574 - val_accuracy: 0.5426\n",
            "Epoch 3/10\n",
            "22/22 [==============================] - 69s 3s/step - loss: 0.6939 - accuracy: 0.6705 - val_loss: 1.2543 - val_accuracy: 0.5780\n",
            "Epoch 4/10\n",
            "22/22 [==============================] - 70s 3s/step - loss: 0.5968 - accuracy: 0.7147 - val_loss: 1.4822 - val_accuracy: 0.5603\n",
            "Epoch 5/10\n",
            "22/22 [==============================] - 62s 3s/step - loss: 0.6846 - accuracy: 0.6690 - val_loss: 1.4177 - val_accuracy: 0.4752\n",
            "Epoch 6/10\n",
            "22/22 [==============================] - 77s 4s/step - loss: 0.6280 - accuracy: 0.7247 - val_loss: 1.6543 - val_accuracy: 0.5709\n",
            "Epoch 7/10\n",
            "22/22 [==============================] - 65s 3s/step - loss: 0.6109 - accuracy: 0.7275 - val_loss: 1.6330 - val_accuracy: 0.5213\n",
            "Epoch 8/10\n",
            "22/22 [==============================] - 65s 3s/step - loss: 0.5542 - accuracy: 0.7518 - val_loss: 1.6919 - val_accuracy: 0.6064\n",
            "Epoch 9/10\n",
            "22/22 [==============================] - 61s 3s/step - loss: 0.5823 - accuracy: 0.7290 - val_loss: 1.9802 - val_accuracy: 0.4965\n",
            "Epoch 10/10\n",
            "22/22 [==============================] - 65s 3s/step - loss: 0.5199 - accuracy: 0.7889 - val_loss: 1.5578 - val_accuracy: 0.6241\n"
          ]
        }
      ],
      "source": [
        "history = model.fit(\n",
        "    train_generator,\n",
        "    epochs=10,\n",
        "    batch_size=80,\n",
        "    validation_data=test_generator\n",
        ")\n"
      ]
    },
    {
      "cell_type": "code",
      "execution_count": null,
      "metadata": {
        "colab": {
          "base_uri": "https://localhost:8080/"
        },
        "id": "nFRARYhggXt7",
        "outputId": "076c9c91-b700-4414-ee0f-72974d91c8ef"
      },
      "outputs": [
        {
          "name": "stdout",
          "output_type": "stream",
          "text": [
            "9/9 [==============================] - 6s 631ms/step - loss: 1.2023 - accuracy: 0.5745\n",
            "Test accuracy: 57.45%\n"
          ]
        }
      ],
      "source": [
        "test_loss, test_acc = model.evaluate(test_generator)\n",
        "print(f'Test accuracy: {test_acc * 100:.2f}%')\n"
      ]
    },
    {
      "cell_type": "code",
      "execution_count": null,
      "metadata": {
        "colab": {
          "base_uri": "https://localhost:8080/",
          "height": 427
        },
        "id": "7myBIda8ld4r",
        "outputId": "d5171cdd-fcbf-4cbe-cc0e-feb355ee4f70"
      },
      "outputs": [
        {
          "data": {
            "text/plain": [
              "<matplotlib.legend.Legend at 0x7a671dabbd00>"
            ]
          },
          "execution_count": 10,
          "metadata": {},
          "output_type": "execute_result"
        },
        {
          "data": {
            "image/png": "[encoded data removed]",
            "text/plain": [
              "<Figure size 1200x400 with 1 Axes>"
            ]
          },
          "metadata": {},
          "output_type": "display_data"
        }
      ],
      "source": [
        "import matplotlib.pyplot as plt\n",
        "from sklearn.metrics import classification_report, confusion_matrix\n",
        "import numpy as np\n",
        "\n",
        "plt.figure(figsize=(12, 4))\n",
        "plt.subplot(1, 2, 1)\n",
        "plt.plot(history.history['loss'], label='Training Loss')\n",
        "plt.plot(history.history['val_loss'], label='Validation Loss')\n",
        "plt.xlabel('Epoch')\n",
        "plt.ylabel('Loss')\n",
        "plt.title('Training and Validation Loss')\n",
        "plt.legend()\n"
      ]
    },
    {
      "cell_type": "code",
      "execution_count": null,
      "metadata": {
        "colab": {
          "base_uri": "https://localhost:8080/",
          "height": 472
        },
        "id": "Wz8RVqvNlqNF",
        "outputId": "3b9e049e-06ad-425c-e91b-cc4462daa7d7"
      },
      "outputs": [
        {
          "data": {
            "image/png": "[encoded data removed]",
            "text/plain": [
              "<Figure size 640x480 with 1 Axes>"
            ]
          },
          "metadata": {},
          "output_type": "display_data"
        }
      ],
      "source": [
        "\n",
        "# Plot training and validation accuracy\n",
        "plt.subplot(1, 2, 2)\n",
        "plt.plot(history.history['accuracy'], label='Training Accuracy')\n",
        "plt.plot(history.history['val_accuracy'], label='Validation Accuracy')\n",
        "plt.xlabel('Epoch')\n",
        "plt.ylabel('Accuracy')\n",
        "plt.title('Training and Validation Accuracy')\n",
        "plt.legend()\n",
        "plt.show()\n"
      ]
    },
    {
      "cell_type": "code",
      "execution_count": null,
      "metadata": {
        "colab": {
          "base_uri": "https://localhost:8080/"
        },
        "id": "uADlkXimltfE",
        "outputId": "97bae854-9a18-4f7e-b7a5-947d44fbc2cb"
      },
      "outputs": [
        {
          "name": "stdout",
          "output_type": "stream",
          "text": [
            "9/9 [==============================] - 12s 1s/step\n"
          ]
        }
      ],
      "source": [
        "\n",
        "# Predict the classes for the test set\n",
        "y_pred = model.predict(test_generator)\n",
        "y_pred_classes = np.argmax(y_pred, axis=1)\n",
        "y_true = test_generator.classes"
      ]
    },
    {
      "cell_type": "code",
      "execution_count": null,
      "metadata": {
        "colab": {
          "base_uri": "https://localhost:8080/"
        },
        "id": "rGMw_nxQlycL",
        "outputId": "a59244de-a424-4f24-d2a1-58eb12a0cae2"
      },
      "outputs": [
        {
          "name": "stdout",
          "output_type": "stream",
          "text": [
            "Confusion Matrix:\n"
          ]
        },
        {
          "data": {
            "text/plain": [
              "array([[67,  7, 15,  0],\n",
              "       [14, 31,  4,  0],\n",
              "       [ 0,  0, 54,  0],\n",
              "       [75,  0, 13,  2]])"
            ]
          },
          "execution_count": 14,
          "metadata": {},
          "output_type": "execute_result"
        }
      ],
      "source": [
        "# Generate the confusion matrix\n",
        "confusion_mtx = confusion_matrix(y_true, y_pred_classes)\n",
        "\n",
        "# Print the confusion matrix\n",
        "print(\"Confusion Matrix:\")\n",
        "confusion_mtx\n"
      ]
    },
    {
      "cell_type": "code",
      "execution_count": null,
      "metadata": {
        "colab": {
          "base_uri": "https://localhost:8080/"
        },
        "id": "c7yYi6cwl3N5",
        "outputId": "69b82d5a-e295-47e5-b60e-72f3e37d7078"
      },
      "outputs": [
        {
          "name": "stdout",
          "output_type": "stream",
          "text": [
            "Classification Report:\n",
            "                         precision    recall  f1-score   support\n",
            "\n",
            "         adenocarcinoma       0.43      0.75      0.55        89\n",
            "   large.cell.carcinoma       0.82      0.63      0.71        49\n",
            "                 normal       0.63      1.00      0.77        54\n",
            "squamous.cell.carcinoma       1.00      0.02      0.04        90\n",
            "\n",
            "               accuracy                           0.55       282\n",
            "              macro avg       0.72      0.60      0.52       282\n",
            "           weighted avg       0.72      0.55      0.46       282\n",
            "\n"
          ]
        }
      ],
      "source": [
        "\n",
        "# Generate the classification report\n",
        "class_labels = list(test_generator.class_indices.keys())\n",
        "class_report = classification_report(y_true, y_pred_classes, target_names=class_labels)\n",
        "\n",
        "# Print the classification report\n",
        "print(\"Classification Report:\")\n",
        "print(class_report)"
      ]
    },
    {
      "cell_type": "code",
      "execution_count": null,
      "metadata": {
        "id": "XvA09DeAoZ7s"
      },
      "outputs": [],
      "source": [
        "from tensorflow import keras\n",
        "from tensorflow.keras import layers\n",
        "\n",
        "# Define the model\n",
        "model = keras.Sequential([\n",
        "    layers.Conv2D(32, (3, 3), activation='relu', input_shape=(img_height, img_width, 3), padding='same', strides=(1, 1)),\n",
        "    layers.MaxPooling2D(2, 2),\n",
        "    layers.Dropout(0.25),  # Add dropout with a 25% dropout rate\n",
        "\n",
        "    layers.Conv2D(64, (3, 3), activation='relu', padding='same', strides=(1, 1)),\n",
        "    layers.MaxPooling2D(2, 2),\n",
        "    layers.Dropout(0.25),  # Add dropout with a 25% dropout rate\n",
        "\n",
        "    layers.Conv2D(128, (3, 3), activation='relu', padding='same', strides=(1, 1)),\n",
        "    layers.MaxPooling2D(2, 2),\n",
        "    layers.Dropout(0.25),  # Add dropout with a 25% dropout rate\n",
        "\n",
        "    layers.Flatten(),\n",
        "    layers.Dense(512, activation='relu'),\n",
        "    layers.Dropout(0.5),  # Add dropout with a 50% dropout rate\n",
        "    layers.Dense(4, activation='softmax')\n",
        "])\n",
        "\n",
        "# Print model summary\n",
        "model.summary()\n"
      ]
    },
    {
      "cell_type": "code",
      "execution_count": null,
      "metadata": {
        "id": "wtZXoTPflKD4"
      },
      "outputs": [],
      "source": [
        "early_stopping = EarlyStopping(monitor='val_loss', patience=5, restore_best_weights=True)\n",
        "\n",
        "model.compile(optimizer='adam', loss='categorical_crossentropy', metrics=['accuracy'])\n",
        "\n",
        "# Train the model with early stopping\n",
        "history = model.fit(, epochs=100, validation_data=test, callbacks=[early_stopping])"
      ]
    }
  ],
  "metadata": {
    "colab": {
      "provenance": []
    },
    "kernelspec": {
      "display_name": "Python 3",
      "name": "python3"
    },
    "language_info": {
      "name": "python"
    }
  },
  "nbformat": 4,
  "nbformat_minor": 0
}